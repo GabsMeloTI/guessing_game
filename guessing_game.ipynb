{
  "nbformat": 4,
  "nbformat_minor": 0,
  "metadata": {
    "colab": {
      "provenance": [],
      "authorship_tag": "ABX9TyM2am0BNXkfo26XfxS5ArrG",
      "include_colab_link": true
    },
    "kernelspec": {
      "name": "python3",
      "display_name": "Python 3"
    },
    "language_info": {
      "name": "python"
    }
  },
  "cells": [
    {
      "cell_type": "markdown",
      "metadata": {
        "id": "view-in-github",
        "colab_type": "text"
      },
      "source": [
        "<a href=\"https://colab.research.google.com/github/gabsmelin/guessing_game/blob/main/guessing_game.ipynb\" target=\"_parent\"><img src=\"https://colab.research.google.com/assets/colab-badge.svg\" alt=\"Open In Colab\"/></a>"
      ]
    },
    {
      "cell_type": "code",
      "execution_count": null,
      "metadata": {
        "colab": {
          "base_uri": "https://localhost:8080/"
        },
        "id": "qEw1oO65Z2Qo",
        "outputId": "0aaa1344-cec6-4610-ee23-cff474fa1a8c"
      },
      "outputs": [
        {
          "output_type": "stream",
          "name": "stdout",
          "text": [
            "A palavra tem 6 letras.\n",
            "Dica: armazenar e processar grandes volumes de dados em clusters distribuídos.\n",
            "Qual é a palavra? cluster\n",
            "Você errou! Ainda restam 2 tentativas.\n",
            "Qual é a palavra? hadoop\n",
            "Parabéns, você acertou!\n"
          ]
        }
      ],
      "source": [
        "# Importação das bibliotecas\n",
        "import requests\n",
        "import random\n",
        "\n",
        "# URL da API da palavras\n",
        "url = 'https://raw.githubusercontent.com/guilhermeonrails/api-imersao-ia/main/words.json'\n",
        "\n",
        "# Requisição da API e conversão para JSON\n",
        "resposta = requests.get(url)\n",
        "data = resposta.json()\n",
        "\n",
        "# Escolhendo palavra aleatória\n",
        "valor_secreto = random.choice(data)\n",
        "palavra_secreta = valor_secreto['palavra'].lower()\n",
        "dica = valor_secreto['dica']\n",
        "\n",
        "# Mostrando dicas\n",
        "print(f'A palavra tem {len(palavra_secreta)} letras.')\n",
        "print(f'Dica: {dica}')\n",
        "\n",
        "\n",
        "numero_tentativas = 3\n",
        "\n",
        "while numero_tentativas > 0:\n",
        "  chute = input('Qual é a palavra? ').lower()\n",
        "\n",
        "  if chute == palavra_secreta:\n",
        "    print('Parabéns, você acertou!')\n",
        "    break\n",
        "\n",
        "  else:\n",
        "\n",
        "    numero_tentativas -= 1\n",
        "    print(f'Você errou! Ainda restam {numero_tentativas} tentativas.')\n",
        "\n",
        "    if numero_tentativas == 0:\n",
        "      print(f'Infelizmente você perdeu! A palavra era {palavra_secreta}')\n",
        "\n"
      ]
    },
    {
      "cell_type": "code",
      "source": [],
      "metadata": {
        "id": "I6oPP34hwt3F"
      },
      "execution_count": null,
      "outputs": []
    }
  ]
}